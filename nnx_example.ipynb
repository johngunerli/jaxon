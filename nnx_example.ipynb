{
 "cells": [
  {
   "cell_type": "code",
   "execution_count": 1,
   "metadata": {},
   "outputs": [
    {
     "name": "stdout",
     "output_type": "stream",
     "text": [
      "[[0.50123656]]\n",
      "[[0.50123656]]\n",
      "[[0.50123656]]\n",
      "[[0.50123656]]\n",
      "[[0.50123656]]\n",
      "[[0.50123656]]\n",
      "[[0.50123656]]\n",
      "[[0.50123656]]\n",
      "2.85 ms ± 1.04 ms per loop (mean ± std. dev. of 7 runs, 1 loop each)\n"
     ]
    }
   ],
   "source": [
    "%%timeit\n",
    "import nnx\n",
    "from jax import random\n",
    "\n",
    "\n",
    "class SimpleNN(nnx.Sequential):\n",
    "    def __init__(self):\n",
    "        super(SimpleNN, self).__init__(\n",
    "            nnx.Linear(10, 5), nnx.ReLU(), nnx.Linear(5, 1), nnx.Sigmoid()\n",
    "        )\n",
    "        \n",
    "    # since our model abstracts away the forward pass, we don't need to define a forward method! \n",
    "    # we can just use the model as a function.\n",
    "\n",
    "model = SimpleNN()\n",
    "rng = random.PRNGKey(0)\n",
    "input_shape = (1, 10)\n",
    "_, params = model.init_params(rng, input_shape) # we have to initialize the parameters before we can use the model.\n",
    "\n",
    "dummy_input = random.normal(rng, (1, 10))\n",
    "\n",
    "\n",
    "output = model(dummy_input, params)\n",
    "\n",
    "print(output)"
   ]
  },
  {
   "cell_type": "code",
   "execution_count": null,
   "metadata": {},
   "outputs": [],
   "source": []
  },
  {
   "cell_type": "markdown",
   "metadata": {},
   "source": []
  }
 ],
 "metadata": {
  "kernelspec": {
   "display_name": "gpu",
   "language": "python",
   "name": "python3"
  },
  "language_info": {
   "codemirror_mode": {
    "name": "ipython",
    "version": 3
   },
   "file_extension": ".py",
   "mimetype": "text/x-python",
   "name": "python",
   "nbconvert_exporter": "python",
   "pygments_lexer": "ipython3",
   "version": "3.10.13"
  }
 },
 "nbformat": 4,
 "nbformat_minor": 2
}
