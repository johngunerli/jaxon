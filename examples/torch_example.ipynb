{
 "cells": [
  {
   "cell_type": "code",
   "execution_count": 1,
   "metadata": {},
   "outputs": [
    {
     "name": "stdout",
     "output_type": "stream",
     "text": [
      "tensor([[0.5098]], grad_fn=<SigmoidBackward0>)\n",
      "tensor([[0.3959]], grad_fn=<SigmoidBackward0>)\n",
      "tensor([[0.5650]], grad_fn=<SigmoidBackward0>)\n",
      "tensor([[0.5760]], grad_fn=<SigmoidBackward0>)\n",
      "tensor([[0.7314]], grad_fn=<SigmoidBackward0>)\n",
      "tensor([[0.6175]], grad_fn=<SigmoidBackward0>)\n",
      "tensor([[0.3568]], grad_fn=<SigmoidBackward0>)\n",
      "tensor([[0.4921]], grad_fn=<SigmoidBackward0>)\n",
      "249 µs ± 125 µs per loop (mean ± std. dev. of 7 runs, 1 loop each)\n"
     ]
    }
   ],
   "source": [
    "%%timeit\n",
    "import torch\n",
    "import torch.nn as nn\n",
    "import torch.nn.functional as F\n",
    "\n",
    "class SimpleNN(nn.Module):\n",
    "    def __init__(self):\n",
    "        super(SimpleNN, self).__init__()\n",
    "        self.fc1 = nn.Linear(10, 5)  \n",
    "        self.fc2 = nn.Linear(5, 1)   \n",
    "\n",
    "    def forward(self, x):\n",
    "        x = F.relu(self.fc1(x))      \n",
    "        x = torch.sigmoid(self.fc2(x))  \n",
    "        return x\n",
    "\n",
    "\n",
    "model = SimpleNN()\n",
    "\n",
    "dummy_input = torch.randn(1, 10)  \n",
    "\n",
    "output = model(dummy_input)\n",
    "\n",
    "print(output)  \n"
   ]
  }
 ],
 "metadata": {
  "kernelspec": {
   "display_name": "gpu",
   "language": "python",
   "name": "python3"
  },
  "language_info": {
   "codemirror_mode": {
    "name": "ipython",
    "version": 3
   },
   "file_extension": ".py",
   "mimetype": "text/x-python",
   "name": "python",
   "nbconvert_exporter": "python",
   "pygments_lexer": "ipython3",
   "version": "3.10.13"
  }
 },
 "nbformat": 4,
 "nbformat_minor": 2
}
